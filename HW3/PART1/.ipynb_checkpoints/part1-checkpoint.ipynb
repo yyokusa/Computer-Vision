{
 "cells": [
  {
   "cell_type": "markdown",
   "id": "4c5868de",
   "metadata": {},
   "source": [
    "## Possible Steps"
   ]
  },
  {
   "cell_type": "markdown",
   "id": "c925e3cc",
   "metadata": {},
   "source": [
    "### FIXED THRESHOLDING\n",
    "\n",
    "1 - Using Gaussian blurring denoise the image\n",
    "2 - Turn gray image into binary image\n",
    "3 - One possiblity: Apply fixed thresholding by checking histogram manually. --> Generated a binary mask  \n",
    "\n",
    "https://datacarpentry.org/image-processing/07-thresholding/  \n",
    "\n",
    "We can now apply the binary_mask to the original colored image as we have learned in the Drawing and Bitwise Operations episode. What we are left with is only the colored shapes from the original.\n",
    "\n",
    "### Automatic Thresholding\n",
    "\n",
    "Automatic thresholding\n",
    "\n",
    "The downside of the simple thresholding technique is that we have to make an educated guess about the threshold t by inspecting the histogram. There are also automatic thresholding methods that can determine the threshold automatically for us. One such method is Otsu’s method. It is particularly useful for situations where the grayscale histogram of an image has two peaks that correspond to background and objects of interest.\n",
    "\n",
    "    Denoising an image before thresholding\n",
    "\n",
    "    In practice, it is often necessary to denoise the image before thresholding, which can be done with one of the methods from the Blurring episode.\n",
    "\n",
    "The skimage.filters.threshold_otsu() function can be used to determine the threshold automatically via Otsu’s method. Then numpy comparison operators can be used to apply it as before. Here are the Python commands to determine the threshold t with Otsu’s method. ~~~ # perform automatic thresholding t = skimage.filters.threshold_otsu(blurred_image) print(“Found automatic threshold t = {}.”.format(t)) ~~~ {: .language-python}\n",
    "\n",
    "Found automatic threshold t = 0.4172454549881862.\n"
   ]
  },
  {
   "cell_type": "markdown",
   "id": "0a5bb994",
   "metadata": {},
   "source": [
    "# CODE"
   ]
  },
  {
   "cell_type": "code",
   "execution_count": 1,
   "id": "29a2e40c",
   "metadata": {},
   "outputs": [],
   "source": [
    "import numpy as np\n",
    "import scipy.io"
   ]
  },
  {
   "cell_type": "code",
   "execution_count": 26,
   "id": "c1aa10fe",
   "metadata": {},
   "outputs": [],
   "source": [
    "mat = scipy.io.loadmat('/Users/yasinyokus/Desktop/CV HW3 -- 28ARALIK/BSR/BSDS500/data/groundTruth/test/107072.mat')"
   ]
  },
  {
   "cell_type": "code",
   "execution_count": 14,
   "id": "912d9901",
   "metadata": {},
   "outputs": [],
   "source": [
    "# mat['groundTruth'][0, 1][0][0][0] # gray\n",
    "# mat['groundTruth'][0, 1][0][0][1] # binary\n",
    "# (mat['groundTruth'][0, 1][0][0][1] != 0).shape"
   ]
  },
  {
   "cell_type": "code",
   "execution_count": 43,
   "id": "556033fe",
   "metadata": {},
   "outputs": [],
   "source": [
    "import matplotlib.pyplot as plt\n",
    "from functools import reduce\n",
    "import cv2\n",
    "arr_length = mat['groundTruth'].shape[1]\n",
    "truths = [mat['groundTruth'][0, i][0][0][1] for i in range(arr_length)]\n",
    "edge_ground_truth = reduce(np.add, truths) # use this as the edge ground truths"
   ]
  },
  {
   "cell_type": "code",
   "execution_count": 52,
   "id": "4339d6be",
   "metadata": {},
   "outputs": [
    {
     "data": {
      "text/plain": [
       "{0: 143546, 1: 6327, 2: 2209, 3: 1207, 4: 723, 5: 313, 6: 64, 7: 12}"
      ]
     },
     "execution_count": 52,
     "metadata": {},
     "output_type": "execute_result"
    }
   ],
   "source": [
    "\n",
    "# (thresh, im_bw) = cv2.threshold(edge_ground_truth, 128, 255, cv2.THRESH_BINARY | cv2.THRESH_OTSU)\n",
    "# thresh\n",
    "\n",
    "# plt.imshow(edge_ground_truth)\n",
    "# plt.imshow(mat['groundTruth'][0, 3][0][0][0])\n",
    "# unique, counts = np.unique((edge_ground_truth * 51), return_counts=True)\n",
    "unique, counts = np.unique(edge_ground_truth, return_counts=True)\n",
    "dict(zip(unique, counts))"
   ]
  },
  {
   "cell_type": "code",
   "execution_count": null,
   "id": "68371ac4",
   "metadata": {},
   "outputs": [],
   "source": []
  },
  {
   "cell_type": "code",
   "execution_count": null,
   "id": "a907722a",
   "metadata": {},
   "outputs": [],
   "source": []
  },
  {
   "cell_type": "code",
   "execution_count": null,
   "id": "39fbc138",
   "metadata": {},
   "outputs": [],
   "source": []
  },
  {
   "cell_type": "code",
   "execution_count": null,
   "id": "e14e65ab",
   "metadata": {},
   "outputs": [],
   "source": []
  },
  {
   "cell_type": "code",
   "execution_count": null,
   "id": "088b23cd",
   "metadata": {},
   "outputs": [],
   "source": []
  },
  {
   "cell_type": "code",
   "execution_count": null,
   "id": "2832686e",
   "metadata": {},
   "outputs": [],
   "source": []
  },
  {
   "cell_type": "code",
   "execution_count": null,
   "id": "33625981",
   "metadata": {},
   "outputs": [],
   "source": []
  },
  {
   "cell_type": "code",
   "execution_count": null,
   "id": "042e3d81",
   "metadata": {},
   "outputs": [],
   "source": []
  },
  {
   "cell_type": "code",
   "execution_count": null,
   "id": "824e4ecd",
   "metadata": {},
   "outputs": [],
   "source": []
  },
  {
   "cell_type": "code",
   "execution_count": null,
   "id": "1189c053",
   "metadata": {},
   "outputs": [],
   "source": []
  },
  {
   "cell_type": "code",
   "execution_count": null,
   "id": "839c8cb1",
   "metadata": {},
   "outputs": [],
   "source": []
  },
  {
   "cell_type": "code",
   "execution_count": null,
   "id": "a1cb2b33",
   "metadata": {},
   "outputs": [],
   "source": []
  },
  {
   "cell_type": "code",
   "execution_count": null,
   "id": "4f1e1b06",
   "metadata": {},
   "outputs": [],
   "source": []
  },
  {
   "cell_type": "code",
   "execution_count": null,
   "id": "8734f6c2",
   "metadata": {},
   "outputs": [],
   "source": []
  },
  {
   "cell_type": "code",
   "execution_count": null,
   "id": "602c70f6",
   "metadata": {},
   "outputs": [],
   "source": []
  },
  {
   "cell_type": "code",
   "execution_count": null,
   "id": "24a7ba8e",
   "metadata": {},
   "outputs": [],
   "source": []
  },
  {
   "cell_type": "code",
   "execution_count": null,
   "id": "7c18b48f",
   "metadata": {},
   "outputs": [],
   "source": []
  },
  {
   "cell_type": "code",
   "execution_count": null,
   "id": "92d4d462",
   "metadata": {},
   "outputs": [],
   "source": []
  },
  {
   "cell_type": "code",
   "execution_count": null,
   "id": "0fc75310",
   "metadata": {},
   "outputs": [],
   "source": []
  }
 ],
 "metadata": {
  "kernelspec": {
   "display_name": "Python 3 (ipykernel)",
   "language": "python",
   "name": "python3"
  },
  "language_info": {
   "codemirror_mode": {
    "name": "ipython",
    "version": 3
   },
   "file_extension": ".py",
   "mimetype": "text/x-python",
   "name": "python",
   "nbconvert_exporter": "python",
   "pygments_lexer": "ipython3",
   "version": "3.8.2"
  }
 },
 "nbformat": 4,
 "nbformat_minor": 5
}
