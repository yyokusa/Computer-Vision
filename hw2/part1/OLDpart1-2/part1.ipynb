{
 "cells": [
  {
   "cell_type": "code",
   "execution_count": 31,
   "metadata": {},
   "outputs": [],
   "source": [
    "%matplotlib inline\n",
    "import moviepy.video.io.VideoFileClip as mpy\n",
    "import moviepy.editor as mpyeditor\n",
    "import cv2\n",
    "import matplotlib.pyplot as plt\n",
    "import numpy as np"
   ]
  },
  {
   "cell_type": "markdown",
   "metadata": {},
   "source": [
    "# PART I"
   ]
  },
  {
   "cell_type": "code",
   "execution_count": 2,
   "metadata": {},
   "outputs": [
    {
     "name": "stdout",
     "output_type": "stream",
     "text": [
      "frame_count:  92\n",
      "video_fps:  25.0\n"
     ]
    }
   ],
   "source": [
    "vid = mpy.VideoFileClip('shapes_video.mp4')\n",
    "\n",
    "frame_count = vid.reader.nframes # 92 frames\n",
    "video_fps = vid.fps\n",
    "\n",
    "print('frame_count: ', frame_count)\n",
    "print('video_fps: ', video_fps)"
   ]
  },
  {
   "cell_type": "code",
   "execution_count": 50,
   "metadata": {},
   "outputs": [],
   "source": [
    "# height width channels = image.shape\n",
    "def median_filter(image_rgb):\n",
    "    '''\n",
    "        This median filter processes RGB channels\n",
    "        using zero padding with appropriate filter mask size,\n",
    "        after noise removal it removes zero paddings.\n",
    "    '''\n",
    "    fw, fh = 3, 3\n",
    "    window_size = fw * fh\n",
    "    mid_index = (window_size) // 2\n",
    "\n",
    "    resulting_image = image_rgb.copy()\n",
    "    zero_padded_image = np.zeros(shape=(frame.shape[0] + (2 * (fh//2)), frame.shape[1] + (2 * (fw//2)), frame.shape[2]))\n",
    "    zero_padded_image[fh//2:zero_padded_image.shape[0] - 2 * (fh//2) + 1,\n",
    "                      fw//2:zero_padded_image.shape[1] - 2 * (fw//2) + 1, :] = image_rgb\n",
    "    for channel, image in enumerate(cv2.split(zero_padded_image)):\n",
    "        h, w = image.shape[:2]\n",
    "        image_one_channel = np.zeros_like(image)\n",
    "        image_window = np.zeros(shape=(window_size))\n",
    "        half_fw = fw // 2\n",
    "        half_fh = fh // 2\n",
    "        for x in range(half_fw, w - half_fw):\n",
    "            for y in range(half_fh, h - half_fh):\n",
    "                window_index = 0\n",
    "                for fx in range(0, fw):\n",
    "                    for fy in range(0, fh):\n",
    "                        y_index = y + fy - half_fh\n",
    "                        x_index = x + fx - half_fw\n",
    "                        image_window[window_index] = image[y_index][x_index]\n",
    "                        window_index += 1\n",
    "                image_window.sort()\n",
    "                pixel_value = image_window[mid_index]\n",
    "                if pixel_value > 255:\n",
    "                    image_one_channel[y][x] = 255\n",
    "                elif pixel_value < 0:\n",
    "                    image_one_channel[y][x] = 0\n",
    "                else:\n",
    "                    image_one_channel[y][x] = pixel_value\n",
    "                \n",
    "        resulting_image[:, :, channel] = image_one_channel[fh//2:zero_padded_image.shape[0] - 2 * (fh//2) + 1,fw//2:zero_padded_image.shape[1] - 2 * (fw//2) + 1]\n",
    "    \n",
    "    return resulting_image\n",
    "    "
   ]
  },
  {
   "cell_type": "code",
   "execution_count": 51,
   "metadata": {},
   "outputs": [
    {
     "ename": "KeyboardInterrupt",
     "evalue": "",
     "output_type": "error",
     "traceback": [
      "\u001b[0;31m---------------------------------------------------------------------------\u001b[0m",
      "\u001b[0;31mKeyboardInterrupt\u001b[0m                         Traceback (most recent call last)",
      "\u001b[0;32m/var/folders/r6/0xk0j5q14y51k5wqpq9gqqgm0000gn/T/ipykernel_10805/2655782536.py\u001b[0m in \u001b[0;36m<module>\u001b[0;34m\u001b[0m\n\u001b[1;32m      3\u001b[0m     \u001b[0;31m# type(frame): <class 'numpy.ndarray'>\u001b[0m\u001b[0;34m\u001b[0m\u001b[0;34m\u001b[0m\u001b[0;34m\u001b[0m\u001b[0m\n\u001b[1;32m      4\u001b[0m     \u001b[0mframe\u001b[0m \u001b[0;34m=\u001b[0m \u001b[0mvid\u001b[0m\u001b[0;34m.\u001b[0m\u001b[0mget_frame\u001b[0m\u001b[0;34m(\u001b[0m\u001b[0mi\u001b[0m \u001b[0;34m*\u001b[0m \u001b[0;36m1.0\u001b[0m \u001b[0;34m/\u001b[0m \u001b[0mvideo_fps\u001b[0m\u001b[0;34m)\u001b[0m\u001b[0;34m\u001b[0m\u001b[0;34m\u001b[0m\u001b[0m\n\u001b[0;32m----> 5\u001b[0;31m     \u001b[0mmedian_applied_frame\u001b[0m \u001b[0;34m=\u001b[0m \u001b[0mmedian_filter\u001b[0m\u001b[0;34m(\u001b[0m\u001b[0mframe\u001b[0m\u001b[0;34m)\u001b[0m\u001b[0;34m\u001b[0m\u001b[0;34m\u001b[0m\u001b[0m\n\u001b[0m\u001b[1;32m      6\u001b[0m     \u001b[0mimages_list\u001b[0m\u001b[0;34m.\u001b[0m\u001b[0mappend\u001b[0m\u001b[0;34m(\u001b[0m\u001b[0mmedian_applied_frame\u001b[0m\u001b[0;34m)\u001b[0m\u001b[0;34m\u001b[0m\u001b[0;34m\u001b[0m\u001b[0m\n\u001b[1;32m      7\u001b[0m \u001b[0;34m\u001b[0m\u001b[0m\n",
      "\u001b[0;32m/var/folders/r6/0xk0j5q14y51k5wqpq9gqqgm0000gn/T/ipykernel_10805/857559247.py\u001b[0m in \u001b[0;36mmedian_filter\u001b[0;34m(image_rgb)\u001b[0m\n\u001b[1;32m     25\u001b[0m                 \u001b[0;32mfor\u001b[0m \u001b[0mfx\u001b[0m \u001b[0;32min\u001b[0m \u001b[0mrange\u001b[0m\u001b[0;34m(\u001b[0m\u001b[0;36m0\u001b[0m\u001b[0;34m,\u001b[0m \u001b[0mfw\u001b[0m\u001b[0;34m)\u001b[0m\u001b[0;34m:\u001b[0m\u001b[0;34m\u001b[0m\u001b[0;34m\u001b[0m\u001b[0m\n\u001b[1;32m     26\u001b[0m                     \u001b[0;32mfor\u001b[0m \u001b[0mfy\u001b[0m \u001b[0;32min\u001b[0m \u001b[0mrange\u001b[0m\u001b[0;34m(\u001b[0m\u001b[0;36m0\u001b[0m\u001b[0;34m,\u001b[0m \u001b[0mfh\u001b[0m\u001b[0;34m)\u001b[0m\u001b[0;34m:\u001b[0m\u001b[0;34m\u001b[0m\u001b[0;34m\u001b[0m\u001b[0m\n\u001b[0;32m---> 27\u001b[0;31m                         \u001b[0my_index\u001b[0m \u001b[0;34m=\u001b[0m \u001b[0my\u001b[0m \u001b[0;34m+\u001b[0m \u001b[0mfy\u001b[0m \u001b[0;34m-\u001b[0m \u001b[0mhalf_fh\u001b[0m\u001b[0;34m\u001b[0m\u001b[0;34m\u001b[0m\u001b[0m\n\u001b[0m\u001b[1;32m     28\u001b[0m                         \u001b[0mx_index\u001b[0m \u001b[0;34m=\u001b[0m \u001b[0mx\u001b[0m \u001b[0;34m+\u001b[0m \u001b[0mfx\u001b[0m \u001b[0;34m-\u001b[0m \u001b[0mhalf_fw\u001b[0m\u001b[0;34m\u001b[0m\u001b[0;34m\u001b[0m\u001b[0m\n\u001b[1;32m     29\u001b[0m                         \u001b[0mimage_window\u001b[0m\u001b[0;34m[\u001b[0m\u001b[0mwindow_index\u001b[0m\u001b[0;34m]\u001b[0m \u001b[0;34m=\u001b[0m \u001b[0mimage\u001b[0m\u001b[0;34m[\u001b[0m\u001b[0my_index\u001b[0m\u001b[0;34m]\u001b[0m\u001b[0;34m[\u001b[0m\u001b[0mx_index\u001b[0m\u001b[0;34m]\u001b[0m\u001b[0;34m\u001b[0m\u001b[0;34m\u001b[0m\u001b[0m\n",
      "\u001b[0;31mKeyboardInterrupt\u001b[0m: "
     ]
    }
   ],
   "source": [
    "images_list = []\n",
    "for i in range(frame_count):\n",
    "    # type(frame): <class 'numpy.ndarray'>\n",
    "    frame = vid.get_frame(i * 1.0 / video_fps)\n",
    "    median_applied_frame = median_filter(frame)\n",
    "    images_list.append(median_applied_frame)\n",
    "\n",
    "clip = mpyeditor.ImageSequenceClip(images_list , fps = 25)\n",
    "clip.write_videofile('part1_video.mp4' , codec='libx264')\n"
   ]
  },
  {
   "cell_type": "code",
   "execution_count": 44,
   "metadata": {},
   "outputs": [
    {
     "name": "stderr",
     "output_type": "stream",
     "text": [
      "Clipping input data to the valid range for imshow with RGB data ([0..1] for floats or [0..255] for integers).\n"
     ]
    },
    {
     "name": "stdout",
     "output_type": "stream",
     "text": [
      "(576, 720, 3)\n",
      "(578, 722, 3)\n",
      "(576, 720, 3)\n"
     ]
    },
    {
     "data": {
      "image/png": "[encoded data removed]",
      "text/plain": [
       "<Figure size 432x288 with 1 Axes>"
      ]
     },
     "metadata": {
      "needs_background": "light"
     },
     "output_type": "display_data"
    }
   ],
   "source": [
    "frame = 0\n",
    "for i in range(frame_count):\n",
    "    # type(frame): <class 'numpy.ndarray'>\n",
    "    frame = vid.get_frame(i * 1.0 / video_fps)\n",
    "    break\n",
    "fw, fh = 3, 3\n",
    "zero_padded_image = np.ones(shape=(frame.shape[0] + (2 * (fh//2)), frame.shape[1] + (2 * (fw//2)), frame.shape[2])) * 255\n",
    "# plt.imshow(zero_padded_image)\n",
    "print(frame.shape)\n",
    "print(zero_padded_image.shape)\n",
    "frame = zero_padded_image[fh//2:zero_padded_image.shape[0] - 2 * (fh//2) + 1,\n",
    "                          fw//2:zero_padded_image.shape[1] - 2 * (fw//2) + 1, :]\n",
    "plt.imshow(frame)\n",
    "print(frame.shape)"
   ]
  },
  {
   "cell_type": "code",
   "execution_count": null,
   "metadata": {},
   "outputs": [],
   "source": []
  },
  {
   "cell_type": "code",
   "execution_count": null,
   "metadata": {},
   "outputs": [],
   "source": []
  },
  {
   "cell_type": "code",
   "execution_count": null,
   "metadata": {},
   "outputs": [],
   "source": []
  },
  {
   "cell_type": "code",
   "execution_count": null,
   "metadata": {},
   "outputs": [],
   "source": []
  },
  {
   "cell_type": "code",
   "execution_count": null,
   "metadata": {},
   "outputs": [],
   "source": [
    "# height width channels = image.shape\n",
    "def median_filter(image_rgb):\n",
    "    '''\n",
    "        not processing boundaries approach\n",
    "    '''\n",
    "    resulting_image = image_rgb.copy()\n",
    "    for channel, image in enumerate(cv2.split(image_rgb)):\n",
    "        h, w = image.shape[:2]\n",
    "        output_pixel_value = np.zeros_like(image)\n",
    "        window_width, window_height = 3, 3\n",
    "        window = np.zeros(shape=(window_width * window_height))\n",
    "        edgex = window_width // 2\n",
    "        edgey = window_height // 2\n",
    "        for x in range(edgex, w - edgex):\n",
    "            for y in range(edgey, h - edgey):\n",
    "                i = 0\n",
    "                for fx in range(0, window_width):\n",
    "                    for fy in range(0, window_height):\n",
    "                        window[i] = image[y + fy - edgey][x + fx - edgex]\n",
    "                        i += 1\n",
    "                window.sort()\n",
    "                pixel_value = window[window_width * window_height // 2]\n",
    "                if pixel_value > 255:\n",
    "                    output_pixel_value[y][x] = 255\n",
    "                elif pixel_value < 0:\n",
    "                    output_pixel_value[y][x] = 0\n",
    "                else:\n",
    "                    output_pixel_value[y][x] = pixel_value\n",
    "                \n",
    "        resulting_image[:, :, channel] = output_pixel_value\n",
    "    \n",
    "    return resulting_image\n",
    "\n",
    "# image = cv2.imread('noisy_image.png')\n",
    "# plt.imshow(image)\n",
    "# print(frame.shape)\n",
    "# plt.imshow(frame)\n",
    "# median_applied_frame = median_filter(frame)\n",
    "# median_applied_image = median_filter(image)\n",
    "# plt.imshow(median_applied_image)\n",
    "# plt.imshow(median_applied_frame)\n",
    "\n"
   ]
  },
  {
   "cell_type": "code",
   "execution_count": null,
   "metadata": {},
   "outputs": [],
   "source": [
    "# height width channels = image.shape\n",
    "def median_filter(image):\n",
    "    '''\n",
    "        not processing boundaries approach\n",
    "    '''\n",
    "    h, w = image.shape[:2]\n",
    "    output_pixel_value = np.zeros_like(image)\n",
    "    window_width, window_height = 3, 3\n",
    "    window = np.zeros_like((window_width * window_height))\n",
    "    edgex = window_width // 2\n",
    "    edgey = window_height // 2\n",
    "    for x in range(edgex, w - edgex):\n",
    "        for y in range(edgey, h - edgey):\n",
    "            i = 0\n",
    "            for fx in range(0, window_width):\n",
    "                for fy in range(0, window_height):\n",
    "                    window[i] = image[x + fx - edgex][y + fy - edgey]\n",
    "                    i += 1\n",
    "            window.sort()\n",
    "            pixel_value = window[window_width * window_height // 2]\n",
    "            if pixel_value > 255:\n",
    "                output_pixel_value[x][y] = 255\n",
    "            elif pixel_value < 0:\n",
    "                output_pixel_value[x][y] = 0\n",
    "            else:\n",
    "                output_pixel_value[x][y] = pixel_value\n",
    "                \n",
    "    return output_pixel_value\n",
    "\n",
    "median_applied_frame = median_filter(frame)\n",
    "plt.imshow(median_applied_frame)\n",
    "\n",
    "# height width channels = image.shape\n",
    "def median_filter(image):\n",
    "    '''\n",
    "        not processing boundaries approach\n",
    "    '''\n",
    "    h, w = image.shape[:2]\n",
    "    output_pixel_value = np.zeros_like(image)\n",
    "    window = np.zeros_like((w * h))\n",
    "    edgey = int(h / 2)\n",
    "    edgex = int(w / 2)\n",
    "    for x in range(edgex, w - edgex):\n",
    "        for y in range(edgey, h - edgey):\n",
    "            i = 0\n",
    "            for fx in range(0, w):\n",
    "                for fy in range(0,h):\n",
    "                    window[i] = image[x + fx - edgex][y + fy - edgey]\n",
    "                    i += 1\n",
    "            window.sort()\n",
    "            output_pixel_value[x][y] = window[w * h / 2]\n",
    "    return output_pixel_value\n",
    "\n",
    "median_applied_frame = median_filter(frame)\n",
    "plt.imshow(median_applied_frame)\n"
   ]
  },
  {
   "cell_type": "markdown",
   "metadata": {},
   "source": [
    "# height width channels = image.shape\n",
    "def median_filter(image_rgb):\n",
    "    '''\n",
    "        not processing boundaries approach\n",
    "    '''\n",
    "    fw, fh = 3, 3\n",
    "    zero_padded_image = np.ones(shape=(frame.shape[0] + (2 * (fh//2)), frame.shape[1] + (2 * (fw//2)), frame.shape[2])) * 255\n",
    "    # plt.imshow(zero_padded_image)\n",
    "    print(frame.shape)\n",
    "    print(zero_padded_image.shape)\n",
    "    frame = zero_padded_image[fh//2:zero_padded_image.shape[0] - 2 * (fh//2) + 1,\n",
    "                            fw//2:zero_padded_image.shape[1] - 2 * (fw//2) + 1, :]\n",
    "    plt.imshow(frame)\n",
    "    print(frame.shape)\n",
    "\n",
    "\n",
    "    resulting_image = image_rgb.copy()\n",
    "    for channel, image in enumerate(cv2.split(image_rgb)):\n",
    "        h, w = image.shape[:2]\n",
    "        output_pixel_value = np.zeros_like(image)\n",
    "        window_width, window_height = 3, 3\n",
    "        window = np.zeros(shape=(window_width * window_height))\n",
    "        edgex = window_width // 2\n",
    "        edgey = window_height // 2\n",
    "        for x in range(edgex, w - edgex):\n",
    "            for y in range(edgey, h - edgey):\n",
    "                i = 0\n",
    "                for fx in range(0, window_width):\n",
    "                    for fy in range(0, window_height):\n",
    "                        window[i] = image[y + fy - edgey][x + fx - edgex]\n",
    "                        i += 1\n",
    "                window.sort()\n",
    "                pixel_value = window[window_width * window_height // 2]\n",
    "                if pixel_value > 255:\n",
    "                    output_pixel_value[y][x] = 255\n",
    "                elif pixel_value < 0:\n",
    "                    output_pixel_value[y][x] = 0\n",
    "                else:\n",
    "                    output_pixel_value[y][x] = pixel_value\n",
    "                \n",
    "        resulting_image[:, :, channel] = output_pixel_value\n",
    "    \n",
    "    return resulting_image\n",
    "\n",
    "images_list = []\n",
    "for i in range(frame_count):\n",
    "    # type(frame): <class 'numpy.ndarray'>\n",
    "    frame = vid.get_frame(i * 1.0 / video_fps)\n",
    "    median_applied_frame = median_filter(frame)\n",
    "    images_list.append(median_applied_frame)\n",
    "    if i != 0 and i % 10 == 0:\n",
    "        break\n",
    "clip = mpyeditor.ImageSequenceClip(images_list , fps = 25)\n",
    "clip.write_videofile('part1_video.mp4' , codec='libx264')\n",
    "\n",
    "plt.imshow(frame)\n",
    "print(frame.shape)"
   ]
  }
 ],
 "metadata": {
  "interpreter": {
   "hash": "31f2aee4e71d21fbe5cf8b01ff0e069b9275f58929596ceb00d14d90e3e16cd6"
  },
  "kernelspec": {
   "display_name": "Python 3.8.2 64-bit",
   "language": "python",
   "name": "python3"
  },
  "language_info": {
   "codemirror_mode": {
    "name": "ipython",
    "version": 3
   },
   "file_extension": ".py",
   "mimetype": "text/x-python",
   "name": "python",
   "nbconvert_exporter": "python",
   "pygments_lexer": "ipython3",
   "version": "3.8.2"
  },
  "orig_nbformat": 4
 },
 "nbformat": 4,
 "nbformat_minor": 2
}
