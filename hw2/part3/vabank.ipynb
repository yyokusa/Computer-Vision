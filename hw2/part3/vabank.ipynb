{
 "cells": [
  {
   "cell_type": "code",
   "execution_count": 1,
   "metadata": {},
   "outputs": [],
   "source": [
    "%matplotlib inline\n",
    "import cv2\n",
    "import numpy as np\n",
    "from matplotlib import pyplot as plt\n",
    "import pyautogui\n",
    "import time\n",
    "import os"
   ]
  },
  {
   "cell_type": "code",
   "execution_count": 2,
   "metadata": {},
   "outputs": [],
   "source": [
    "# Vabank 18 - 0\n",
    "# Click Vabank and open the game when you hear the \"BEEP\" sound\n",
    "# Screen Resolution: 1024 x 640\n",
    "\n",
    "template1 = cv2.imread('ucgen.png',0)\n",
    "template2 = cv2.imread('kare.png',0)\n",
    "template3 = cv2.imread('yildiz.png',0)\n",
    "template4 = cv2.imread('altigen.png',0)\n",
    "def detect_key():\n",
    "    img_rgb = cv2.imread('image.png')\n",
    "    img_gray = cv2.cvtColor(img_rgb, cv2.COLOR_BGR2GRAY)\n",
    "    res1 = cv2.matchTemplate(img_gray,template1,cv2.TM_CCOEFF_NORMED)\n",
    "    res2 = cv2.matchTemplate(img_gray,template2,cv2.TM_CCOEFF_NORMED)\n",
    "    res3 = cv2.matchTemplate(img_gray,template3,cv2.TM_CCOEFF_NORMED)\n",
    "    res4 = cv2.matchTemplate(img_gray,template4,cv2.TM_CCOEFF_NORMED)\n",
    "    threshold = 0.8\n",
    "    loc1 = np.where( res1 >= threshold)\n",
    "    loc2 = np.where( res2 >= threshold)\n",
    "    loc3 = np.where( res3 >= threshold)\n",
    "    loc4 = np.where( res4 >= threshold)\n",
    "    if (len(loc1[0]) > 20):\n",
    "        return 'ucgen'\n",
    "    elif (len(loc3[0]) > 20):\n",
    "        return 'yildiz'\n",
    "    elif (len(loc4[0]) > 20):\n",
    "        return 'altigen'\n",
    "    elif (len(loc2[0]) > 20):\n",
    "        return 'kare'\n",
    "    else:\n",
    "        return None"
   ]
  },
  {
   "cell_type": "code",
   "execution_count": null,
   "metadata": {},
   "outputs": [],
   "source": [
    "time.sleep(2)\n",
    "os.system( \"say beep\" )\n",
    "time.sleep(2)\n",
    "while True:\n",
    "    myScreenshot = pyautogui.screenshot(region=(800, 800, 1000, 640))\n",
    "    myScreenshot.save('image.png')\n",
    "    result = detect_key()\n",
    "    print('result: ', result)\n",
    "    if result == 'ucgen':\n",
    "        pyautogui.keyDown('shift')\n",
    "        pyautogui.keyDown('a')\n",
    "        # os.system( \"say triangle\" )\n",
    "        time.sleep(1.2)\n",
    "        pyautogui.keyUp('shift')\n",
    "        pyautogui.keyUp('a')\n",
    "        pass\n",
    "    elif result == 'kare':\n",
    "        pyautogui.keyDown('shift')\n",
    "        pyautogui.keyDown('s')\n",
    "        # os.system( \"say square\" )\n",
    "        time.sleep(1.5)\n",
    "        pyautogui.keyUp('shift')\n",
    "        pyautogui.keyUp('s')\n",
    "        pass\n",
    "    elif result == 'yildiz':\n",
    "        pyautogui.keyDown('shift')\n",
    "        pyautogui.keyDown('d')\n",
    "        # os.system( \"say star\" )\n",
    "        time.sleep(1)\n",
    "        pyautogui.keyUp('shift')\n",
    "        pyautogui.keyUp('d')\n",
    "        pass\n",
    "    elif result == 'altigen':\n",
    "        pyautogui.keyDown('shift')\n",
    "        pyautogui.keyDown('f')\n",
    "        # os.system( \"say six\" )\n",
    "        time.sleep(1)\n",
    "        pyautogui.keyUp('shift')\n",
    "        pyautogui.keyUp('f')\n",
    "        pass\n"
   ]
  },
  {
   "cell_type": "code",
   "execution_count": null,
   "metadata": {},
   "outputs": [],
   "source": []
  }
 ],
 "metadata": {
  "interpreter": {
   "hash": "05c0f006648262006e98a8c86a2dc96a3d0cd8a4fcb8d4862e93d488462b6dcb"
  },
  "kernelspec": {
   "display_name": "Python 3.8.2 64-bit",
   "language": "python",
   "name": "python3"
  },
  "language_info": {
   "codemirror_mode": {
    "name": "ipython",
    "version": 3
   },
   "file_extension": ".py",
   "mimetype": "text/x-python",
   "name": "python",
   "nbconvert_exporter": "python",
   "pygments_lexer": "ipython3",
   "version": "3.8.2"
  },
  "orig_nbformat": 4
 },
 "nbformat": 4,
 "nbformat_minor": 2
}
